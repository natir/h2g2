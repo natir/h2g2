{
 "cells": [
  {
   "cell_type": "markdown",
   "metadata": {},
   "source": [
    "# H2G2: Haplotype to Genome Graph\n",
    "\n",
    "Take as input some haplotype and convert it in genome graph\n",
    "\n",
    "## Input\n",
    "\n",
    "A list of assembly\n",
    "\n",
    "## Pipeline\n",
    "\n",
    "1. Pick an assembly in the list to become reference\n",
    "2. Map each assembly against reference and call variant\n",
    "3. Separate complicate region than SNP\n",
    "4. For complicate region we build a local DBG, with other assembly\n",
    "\n",
    "## Problem need to be solve\n",
    "\n",
    "### How to pick reference\n",
    "\n",
    "Assembly with largest N50 (another meterics could by use)\n",
    "\n",
    "### Mapping assembly against reference\n",
    "\n",
    "Use `minimap2` and `paftools` to call variant\n",
    "\n",
    "### Separate complicate region than SNP\n",
    "\n",
    "```\n",
    "for each variant:\n",
    "    if it's SNP:\n",
    "        continue\n",
    "    else:\n",
    "        save chromosomes, begin and end position of variant\n",
    "```\n",
    "\n",
    "### Extract complicate region\n",
    "\n",
    "For each reference chromosomes found wich other contigs map on it and at wich position.\n",
    "For each complicate region get subsequence map on it around.\n",
    "\n",
    "### Build DBG\n",
    "\n",
    "Use bcalm"
   ]
  },
  {
   "cell_type": "code",
   "execution_count": 1,
   "metadata": {},
   "outputs": [],
   "source": [
    "#!snakemake -s pipeline/get_vcf.snakefile"
   ]
  }
 ],
 "metadata": {
  "kernelspec": {
   "display_name": "Python [conda env:h2g2]",
   "language": "python",
   "name": "conda-env-h2g2-py"
  },
  "language_info": {
   "codemirror_mode": {
    "name": "ipython",
    "version": 3
   },
   "file_extension": ".py",
   "mimetype": "text/x-python",
   "name": "python",
   "nbconvert_exporter": "python",
   "pygments_lexer": "ipython3",
   "version": "3.7.3"
  }
 },
 "nbformat": 4,
 "nbformat_minor": 2
}
